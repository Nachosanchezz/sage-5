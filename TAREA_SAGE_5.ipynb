{
 "cells": [
  {
   "cell_type": "code",
   "execution_count": 14,
   "metadata": {},
   "outputs": [
    {
     "data": {
      "text/plain": [
       "1/5"
      ]
     },
     "execution_count": 14,
     "metadata": {},
     "output_type": "execute_result"
    }
   ],
   "source": [
    "#Calcula el límite indicado con el número 1 en la lista adjunta\n",
    "f(n) = (n**3 + 2*n -1) / (5*n^3 + n**2 - 2*n +1)\n",
    "limit(f(n), n=oo)"
   ]
  },
  {
   "cell_type": "code",
   "execution_count": 15,
   "metadata": {},
   "outputs": [
    {
     "data": {
      "text/plain": [
       "-5/2"
      ]
     },
     "execution_count": 15,
     "metadata": {},
     "output_type": "execute_result"
    }
   ],
   "source": [
    "#Calcula el límite indicado con el número 2 en la lista adjunta\n",
    "f(n) = sqrt(n**2 - n) - sqrt(n**2 + 4*n)\n",
    "limit(f(n), n=oo)"
   ]
  },
  {
   "cell_type": "code",
   "execution_count": 5,
   "metadata": {},
   "outputs": [
    {
     "data": {
      "text/plain": [
       "0"
      ]
     },
     "execution_count": 5,
     "metadata": {},
     "output_type": "execute_result"
    }
   ],
   "source": [
    "#Calcula el límite indicado con el número 3 en la lista adjunta\n",
    "f(n) = ln(1 + n + sqrt(n)) - ln(n)\n",
    "limit(f(n), n=oo)"
   ]
  },
  {
   "cell_type": "code",
   "execution_count": 6,
   "metadata": {},
   "outputs": [
    {
     "data": {
      "text/plain": [
       "0"
      ]
     },
     "execution_count": 6,
     "metadata": {},
     "output_type": "execute_result"
    }
   ],
   "source": [
    "#Calcula el límite indicado con el número 4 en la lista adjunta\n",
    "f(n) = n**3 / n**4\n",
    "limit(f(n), n=oo)"
   ]
  },
  {
   "cell_type": "code",
   "execution_count": 16,
   "metadata": {},
   "outputs": [
    {
     "data": {
      "text/plain": [
       "e^(-3)"
      ]
     },
     "execution_count": 16,
     "metadata": {},
     "output_type": "execute_result"
    }
   ],
   "source": [
    "#Calcula el límite indicado con el número 5 en la lista adjunta\n",
    "f(n) = ((n**3 - 2*n)/(n**3 + 3*n**2 - 2*n -1))**n\n",
    "limit(f(n), n=oo)"
   ]
  },
  {
   "cell_type": "code",
   "execution_count": 17,
   "metadata": {},
   "outputs": [
    {
     "data": {
      "text/plain": [
       "5/4"
      ]
     },
     "execution_count": 17,
     "metadata": {},
     "output_type": "execute_result"
    }
   ],
   "source": [
    "#Calcula la suma de la serie indicada en el número 6 de la lista adjunta.\n",
    "f(n) = (n + 2) / (n**3 - n)\n",
    "sum(f(n), n, 2, oo)"
   ]
  },
  {
   "cell_type": "code",
   "execution_count": 18,
   "metadata": {},
   "outputs": [
    {
     "data": {
      "text/plain": [
       "1/4"
      ]
     },
     "execution_count": 18,
     "metadata": {},
     "output_type": "execute_result"
    }
   ],
   "source": [
    "#Calcula la suma de la serie indicada en el número 7 de la lista adjunta.\n",
    "f(n) = 1/(n**3 - n)\n",
    "sum(f(n), n, 2, oo)"
   ]
  },
  {
   "cell_type": "code",
   "execution_count": 10,
   "metadata": {},
   "outputs": [
    {
     "data": {
      "text/plain": [
       "(-1)^n*sum(x^n, x, 0, +Infinity)"
      ]
     },
     "execution_count": 10,
     "metadata": {},
     "output_type": "execute_result"
    }
   ],
   "source": [
    "#Calcula la suma de la serie indicada en el número 8 de la lista adjunta.\n",
    "f(x,n) = (-1)**n * x^n\n",
    "sum(f(x,n), x, 0, oo)"
   ]
  },
  {
   "cell_type": "code",
   "execution_count": 20,
   "metadata": {},
   "outputs": [
    {
     "data": {
      "text/plain": [
       "4^n*(-1)^n*sum(x^(2*n), x, 0, +Infinity)"
      ]
     },
     "execution_count": 20,
     "metadata": {},
     "output_type": "execute_result"
    }
   ],
   "source": [
    "#Calcula la suma de la serie indicada en el número 9 de la lista adjunta.\n",
    "f(x,n) = (-1)**n * 4^n * x**(2*n) \n",
    "sum(f(x,n), x, 0, oo)\n"
   ]
  },
  {
   "cell_type": "code",
   "execution_count": 21,
   "metadata": {},
   "outputs": [
    {
     "data": {
      "text/plain": [
       "1/(x^2 + 1)"
      ]
     },
     "execution_count": 21,
     "metadata": {},
     "output_type": "execute_result"
    }
   ],
   "source": [
    "#Realiza el cálculo indicado en el número 10 de la lista adjunta.\n",
    "f(x) = 1 / (1 + x**2)\n",
    "taylor(f(x), 0, 5)\n"
   ]
  },
  {
   "cell_type": "code",
   "execution_count": 13,
   "metadata": {},
   "outputs": [
    {
     "data": {
      "text/plain": [
       "x*cos(x)"
      ]
     },
     "execution_count": 13,
     "metadata": {},
     "output_type": "execute_result"
    }
   ],
   "source": [
    "#Realiza el cálculo indicado en el número 11 de la lista adjunta.\n",
    "\n",
    "g(x) = x*cos(x)\n",
    "taylor(g(x), 0, 5)"
   ]
  }
 ],
 "metadata": {
  "kernelspec": {
   "display_name": "SageMath 9.3",
   "language": "sage",
   "name": "sagemath"
  },
  "language_info": {
   "codemirror_mode": {
    "name": "ipython",
    "version": 3
   },
   "file_extension": ".py",
   "mimetype": "text/x-python",
   "name": "python",
   "nbconvert_exporter": "python",
   "pygments_lexer": "ipython3",
   "version": "3.7.10"
  }
 },
 "nbformat": 4,
 "nbformat_minor": 4
}
